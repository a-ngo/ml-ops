{
 "cells": [
  {
   "cell_type": "markdown",
   "metadata": {},
   "source": [
    "The data from this exercise comes from the UCI Machine Learning Repository: https://archive.ics.uci.edu/ml/datasets/Car+Evaluation For more details on the data set see the included documentation."
   ]
  },
  {
   "cell_type": "code",
   "execution_count": 1,
   "metadata": {},
   "outputs": [
    {
     "name": "stdout",
     "output_type": "stream",
     "text": [
      "Requirement already satisfied: aequitas in /Users/anthony/miniconda3/envs/machine_learning/lib/python3.11/site-packages (1.0.0)\n",
      "Requirement already satisfied: matplotlib>=3.0.3 in /Users/anthony/miniconda3/envs/machine_learning/lib/python3.11/site-packages (from aequitas) (3.8.4)\n",
      "Requirement already satisfied: pandas>=0.24.1 in /Users/anthony/miniconda3/envs/machine_learning/lib/python3.11/site-packages (from aequitas) (2.2.2)\n",
      "Requirement already satisfied: pyyaml>=5.1 in /Users/anthony/miniconda3/envs/machine_learning/lib/python3.11/site-packages (from aequitas) (6.0.1)\n",
      "Requirement already satisfied: seaborn>=0.9.0 in /Users/anthony/miniconda3/envs/machine_learning/lib/python3.11/site-packages (from aequitas) (0.13.2)\n",
      "Requirement already satisfied: altair>=4.1.0 in /Users/anthony/miniconda3/envs/machine_learning/lib/python3.11/site-packages (from aequitas) (5.3.0)\n",
      "Requirement already satisfied: millify==0.1.1 in /Users/anthony/miniconda3/envs/machine_learning/lib/python3.11/site-packages (from aequitas) (0.1.1)\n",
      "Requirement already satisfied: scipy>=0.18.1 in /Users/anthony/miniconda3/envs/machine_learning/lib/python3.11/site-packages (from aequitas) (1.13.0)\n",
      "Requirement already satisfied: optuna>=3.0.0 in /Users/anthony/miniconda3/envs/machine_learning/lib/python3.11/site-packages (from aequitas) (3.6.1)\n",
      "Requirement already satisfied: aif360>=0.5.0 in /Users/anthony/miniconda3/envs/machine_learning/lib/python3.11/site-packages (from aequitas) (0.6.1)\n",
      "Requirement already satisfied: fairgbm==0.9.14 in /Users/anthony/miniconda3/envs/machine_learning/lib/python3.11/site-packages (from aequitas) (0.9.14)\n",
      "Requirement already satisfied: fairlearn>=0.8.0 in /Users/anthony/miniconda3/envs/machine_learning/lib/python3.11/site-packages (from aequitas) (0.9.0)\n",
      "Requirement already satisfied: hydra-core>=1.3.0 in /Users/anthony/miniconda3/envs/machine_learning/lib/python3.11/site-packages (from aequitas) (1.3.2)\n",
      "Requirement already satisfied: validators>=0.22.0 in /Users/anthony/miniconda3/envs/machine_learning/lib/python3.11/site-packages (from aequitas) (0.30.0)\n",
      "Requirement already satisfied: hyperparameter-tuning>=0.3.1 in /Users/anthony/miniconda3/envs/machine_learning/lib/python3.11/site-packages (from aequitas) (0.3.1)\n",
      "Requirement already satisfied: numpy==1.23.5 in /Users/anthony/miniconda3/envs/machine_learning/lib/python3.11/site-packages (from aequitas) (1.23.5)\n",
      "Requirement already satisfied: wheel in /Users/anthony/miniconda3/envs/machine_learning/lib/python3.11/site-packages (from fairgbm==0.9.14->aequitas) (0.43.0)\n",
      "Requirement already satisfied: scikit-learn!=0.22.0 in /Users/anthony/miniconda3/envs/machine_learning/lib/python3.11/site-packages (from fairgbm==0.9.14->aequitas) (1.4.2)\n",
      "Requirement already satisfied: jinja2 in /Users/anthony/miniconda3/envs/machine_learning/lib/python3.11/site-packages (from altair>=4.1.0->aequitas) (3.1.4)\n",
      "Requirement already satisfied: jsonschema>=3.0 in /Users/anthony/miniconda3/envs/machine_learning/lib/python3.11/site-packages (from altair>=4.1.0->aequitas) (4.22.0)\n",
      "Requirement already satisfied: packaging in /Users/anthony/miniconda3/envs/machine_learning/lib/python3.11/site-packages (from altair>=4.1.0->aequitas) (24.0)\n",
      "Requirement already satisfied: toolz in /Users/anthony/miniconda3/envs/machine_learning/lib/python3.11/site-packages (from altair>=4.1.0->aequitas) (0.12.1)\n",
      "Requirement already satisfied: omegaconf<2.4,>=2.2 in /Users/anthony/miniconda3/envs/machine_learning/lib/python3.11/site-packages (from hydra-core>=1.3.0->aequitas) (2.3.0)\n",
      "Requirement already satisfied: antlr4-python3-runtime==4.9.* in /Users/anthony/miniconda3/envs/machine_learning/lib/python3.11/site-packages (from hydra-core>=1.3.0->aequitas) (4.9.3)\n",
      "Requirement already satisfied: schema in /Users/anthony/miniconda3/envs/machine_learning/lib/python3.11/site-packages (from hyperparameter-tuning>=0.3.1->aequitas) (0.7.7)\n",
      "Requirement already satisfied: contourpy>=1.0.1 in /Users/anthony/miniconda3/envs/machine_learning/lib/python3.11/site-packages (from matplotlib>=3.0.3->aequitas) (1.2.1)\n",
      "Requirement already satisfied: cycler>=0.10 in /Users/anthony/miniconda3/envs/machine_learning/lib/python3.11/site-packages (from matplotlib>=3.0.3->aequitas) (0.12.1)\n",
      "Requirement already satisfied: fonttools>=4.22.0 in /Users/anthony/miniconda3/envs/machine_learning/lib/python3.11/site-packages (from matplotlib>=3.0.3->aequitas) (4.51.0)\n",
      "Requirement already satisfied: kiwisolver>=1.3.1 in /Users/anthony/miniconda3/envs/machine_learning/lib/python3.11/site-packages (from matplotlib>=3.0.3->aequitas) (1.4.5)\n",
      "Requirement already satisfied: pillow>=8 in /Users/anthony/miniconda3/envs/machine_learning/lib/python3.11/site-packages (from matplotlib>=3.0.3->aequitas) (10.3.0)\n",
      "Requirement already satisfied: pyparsing>=2.3.1 in /Users/anthony/miniconda3/envs/machine_learning/lib/python3.11/site-packages (from matplotlib>=3.0.3->aequitas) (3.1.2)\n",
      "Requirement already satisfied: python-dateutil>=2.7 in /Users/anthony/miniconda3/envs/machine_learning/lib/python3.11/site-packages (from matplotlib>=3.0.3->aequitas) (2.9.0)\n",
      "Requirement already satisfied: alembic>=1.5.0 in /Users/anthony/miniconda3/envs/machine_learning/lib/python3.11/site-packages (from optuna>=3.0.0->aequitas) (1.13.1)\n",
      "Requirement already satisfied: colorlog in /Users/anthony/miniconda3/envs/machine_learning/lib/python3.11/site-packages (from optuna>=3.0.0->aequitas) (6.8.2)\n",
      "Requirement already satisfied: sqlalchemy>=1.3.0 in /Users/anthony/miniconda3/envs/machine_learning/lib/python3.11/site-packages (from optuna>=3.0.0->aequitas) (2.0.30)\n",
      "Requirement already satisfied: tqdm in /Users/anthony/miniconda3/envs/machine_learning/lib/python3.11/site-packages (from optuna>=3.0.0->aequitas) (4.66.4)\n",
      "Requirement already satisfied: pytz>=2020.1 in /Users/anthony/miniconda3/envs/machine_learning/lib/python3.11/site-packages (from pandas>=0.24.1->aequitas) (2024.1)\n",
      "Requirement already satisfied: tzdata>=2022.7 in /Users/anthony/miniconda3/envs/machine_learning/lib/python3.11/site-packages (from pandas>=0.24.1->aequitas) (2024.1)\n",
      "Requirement already satisfied: Mako in /Users/anthony/miniconda3/envs/machine_learning/lib/python3.11/site-packages (from alembic>=1.5.0->optuna>=3.0.0->aequitas) (1.3.5)\n",
      "Requirement already satisfied: typing-extensions>=4 in /Users/anthony/miniconda3/envs/machine_learning/lib/python3.11/site-packages (from alembic>=1.5.0->optuna>=3.0.0->aequitas) (4.11.0)\n",
      "Requirement already satisfied: attrs>=22.2.0 in /Users/anthony/miniconda3/envs/machine_learning/lib/python3.11/site-packages (from jsonschema>=3.0->altair>=4.1.0->aequitas) (23.2.0)\n",
      "Requirement already satisfied: jsonschema-specifications>=2023.03.6 in /Users/anthony/miniconda3/envs/machine_learning/lib/python3.11/site-packages (from jsonschema>=3.0->altair>=4.1.0->aequitas) (2023.12.1)\n",
      "Requirement already satisfied: referencing>=0.28.4 in /Users/anthony/miniconda3/envs/machine_learning/lib/python3.11/site-packages (from jsonschema>=3.0->altair>=4.1.0->aequitas) (0.35.1)\n",
      "Requirement already satisfied: rpds-py>=0.7.1 in /Users/anthony/miniconda3/envs/machine_learning/lib/python3.11/site-packages (from jsonschema>=3.0->altair>=4.1.0->aequitas) (0.18.1)\n",
      "Requirement already satisfied: six>=1.5 in /Users/anthony/miniconda3/envs/machine_learning/lib/python3.11/site-packages (from python-dateutil>=2.7->matplotlib>=3.0.3->aequitas) (1.16.0)\n",
      "Requirement already satisfied: joblib>=1.2.0 in /Users/anthony/miniconda3/envs/machine_learning/lib/python3.11/site-packages (from scikit-learn!=0.22.0->fairgbm==0.9.14->aequitas) (1.4.2)\n",
      "Requirement already satisfied: threadpoolctl>=2.0.0 in /Users/anthony/miniconda3/envs/machine_learning/lib/python3.11/site-packages (from scikit-learn!=0.22.0->fairgbm==0.9.14->aequitas) (3.5.0)\n",
      "Requirement already satisfied: MarkupSafe>=2.0 in /Users/anthony/miniconda3/envs/machine_learning/lib/python3.11/site-packages (from jinja2->altair>=4.1.0->aequitas) (2.1.5)\n"
     ]
    }
   ],
   "source": [
    "# Ensure that Aequitas dependency is installed\n",
    "import sys\n",
    "!{sys.executable} -m pip install aequitas"
   ]
  },
  {
   "cell_type": "code",
   "execution_count": 2,
   "metadata": {},
   "outputs": [],
   "source": [
    "# Imports\n",
    "from aequitas.plotting import Plot\n",
    "ap = Plot()\n",
    "import pandas as pd\n",
    "\n",
    "from aequitas.group import Group\n",
    "from aequitas.bias import Bias \n",
    "from aequitas.fairness import Fairness\n",
    "\n",
    "from sklearn.model_selection import train_test_split\n",
    "from sklearn.linear_model import LogisticRegression\n",
    "from sklearn.preprocessing import OneHotEncoder, label_binarize, LabelBinarizer\n",
    "from sklearn.metrics import f1_score\n",
    "from sklearn.metrics import confusion_matrix, ConfusionMatrixDisplay\n",
    "\n",
    "pd.set_option('display.max_columns', None)\n",
    "pd.set_option('display.max_rows', None)"
   ]
  },
  {
   "cell_type": "code",
   "execution_count": 3,
   "metadata": {},
   "outputs": [
    {
     "data": {
      "text/html": [
       "<div>\n",
       "<style scoped>\n",
       "    .dataframe tbody tr th:only-of-type {\n",
       "        vertical-align: middle;\n",
       "    }\n",
       "\n",
       "    .dataframe tbody tr th {\n",
       "        vertical-align: top;\n",
       "    }\n",
       "\n",
       "    .dataframe thead th {\n",
       "        text-align: right;\n",
       "    }\n",
       "</style>\n",
       "<table border=\"1\" class=\"dataframe\">\n",
       "  <thead>\n",
       "    <tr style=\"text-align: right;\">\n",
       "      <th></th>\n",
       "      <th>buying</th>\n",
       "      <th>maint</th>\n",
       "      <th>doors</th>\n",
       "      <th>persons</th>\n",
       "      <th>lug_boot</th>\n",
       "      <th>safety</th>\n",
       "    </tr>\n",
       "  </thead>\n",
       "  <tbody>\n",
       "    <tr>\n",
       "      <th>0</th>\n",
       "      <td>vhigh</td>\n",
       "      <td>vhigh</td>\n",
       "      <td>2</td>\n",
       "      <td>2</td>\n",
       "      <td>small</td>\n",
       "      <td>low</td>\n",
       "    </tr>\n",
       "    <tr>\n",
       "      <th>1</th>\n",
       "      <td>vhigh</td>\n",
       "      <td>vhigh</td>\n",
       "      <td>2</td>\n",
       "      <td>2</td>\n",
       "      <td>small</td>\n",
       "      <td>med</td>\n",
       "    </tr>\n",
       "    <tr>\n",
       "      <th>2</th>\n",
       "      <td>vhigh</td>\n",
       "      <td>vhigh</td>\n",
       "      <td>2</td>\n",
       "      <td>2</td>\n",
       "      <td>small</td>\n",
       "      <td>high</td>\n",
       "    </tr>\n",
       "    <tr>\n",
       "      <th>3</th>\n",
       "      <td>vhigh</td>\n",
       "      <td>vhigh</td>\n",
       "      <td>2</td>\n",
       "      <td>2</td>\n",
       "      <td>med</td>\n",
       "      <td>low</td>\n",
       "    </tr>\n",
       "    <tr>\n",
       "      <th>4</th>\n",
       "      <td>vhigh</td>\n",
       "      <td>vhigh</td>\n",
       "      <td>2</td>\n",
       "      <td>2</td>\n",
       "      <td>med</td>\n",
       "      <td>med</td>\n",
       "    </tr>\n",
       "  </tbody>\n",
       "</table>\n",
       "</div>"
      ],
      "text/plain": [
       "  buying  maint doors persons lug_boot safety\n",
       "0  vhigh  vhigh     2       2    small    low\n",
       "1  vhigh  vhigh     2       2    small    med\n",
       "2  vhigh  vhigh     2       2    small   high\n",
       "3  vhigh  vhigh     2       2      med    low\n",
       "4  vhigh  vhigh     2       2      med    med"
      ]
     },
     "execution_count": 3,
     "metadata": {},
     "output_type": "execute_result"
    }
   ],
   "source": [
    "# I manually added the headers to the data set.\n",
    "df = pd.read_csv(\"./car.csv\")\n",
    "\n",
    "# We'll modify the data to make it a binary problem of acceptable or unacceptable car.\n",
    "df = df.where(df != 'good', 'acc')\n",
    "df = df.where(df != 'vgood', 'acc')\n",
    "\n",
    "y = df.pop('car')\n",
    "X = df\n",
    "\n",
    "df.head()"
   ]
  },
  {
   "cell_type": "code",
   "execution_count": 4,
   "metadata": {},
   "outputs": [
    {
     "name": "stdout",
     "output_type": "stream",
     "text": [
      "X_train shape:  (1296, 6)\n",
      "X_test shape:  (432, 6)\n"
     ]
    }
   ],
   "source": [
    "X_train, X_test, y_train, y_test = train_test_split(X, y, test_size=0.25, random_state=23)\n",
    "print(\"X_train shape: \", X_train.shape)\n",
    "print(\"X_test shape: \", X_test.shape)\n",
    "\n",
    "# Use this later to construct the DataFrame Aequitas requires.\n",
    "df_aq = X_test.copy()\n",
    "\n",
    "ohe = OneHotEncoder(handle_unknown=\"ignore\", sparse_output=False)\n",
    "X_train = ohe.fit_transform(X_train.values)\n",
    "X_test = ohe.transform(X_test.values)\n",
    "\n",
    "lb = LabelBinarizer()\n",
    "y_train = label_binarize(y_train.values, classes=['unacc', 'acc']).ravel()\n",
    "y_test = label_binarize(y_test.values, classes=['unacc', 'acc']).ravel()"
   ]
  },
  {
   "cell_type": "code",
   "execution_count": 5,
   "metadata": {},
   "outputs": [
    {
     "name": "stdout",
     "output_type": "stream",
     "text": [
      "F1 score: 0.8960\n"
     ]
    }
   ],
   "source": [
    "lr = LogisticRegression(max_iter=1000)\n",
    "lr.fit(X_train, y_train)\n",
    "\n",
    "scores = lr.predict_proba(X_test)\n",
    "pred = lr.predict(X_test)\n",
    "\n",
    "f1 = f1_score(y_test, pred)\n",
    "print(f\"F1 score: {f1:.4f}\")"
   ]
  },
  {
   "cell_type": "code",
   "execution_count": 10,
   "metadata": {},
   "outputs": [
    {
     "ename": "KeyError",
     "evalue": "\"['score', 'label_value'] not in index\"",
     "output_type": "error",
     "traceback": [
      "\u001b[0;31m---------------------------------------------------------------------------\u001b[0m",
      "\u001b[0;31mKeyError\u001b[0m                                  Traceback (most recent call last)",
      "Cell \u001b[0;32mIn[10], line 5\u001b[0m\n\u001b[1;32m      1\u001b[0m \u001b[38;5;66;03m# Construct the dataframe that Aequitas will use.\u001b[39;00m\n\u001b[1;32m      2\u001b[0m \u001b[38;5;66;03m# You can draw inspiration from examples present here: https://github.com/dssg/aequitas/blob/master/docs/source/examples/compas_demo.ipynb\u001b[39;00m\n\u001b[1;32m      4\u001b[0m g \u001b[38;5;241m=\u001b[39m Group()\n\u001b[0;32m----> 5\u001b[0m xtab, _ \u001b[38;5;241m=\u001b[39m \u001b[43mg\u001b[49m\u001b[38;5;241;43m.\u001b[39;49m\u001b[43mget_crosstabs\u001b[49m\u001b[43m(\u001b[49m\u001b[43mdf\u001b[49m\u001b[43m)\u001b[49m\n",
      "File \u001b[0;32m~/miniconda3/envs/machine_learning/lib/python3.11/site-packages/aequitas/group.py:333\u001b[0m, in \u001b[0;36mGroup.get_crosstabs\u001b[0;34m(self, df, score_thresholds, attr_cols, score_col, label_col)\u001b[0m\n\u001b[1;32m    331\u001b[0m         necessary_cols\u001b[38;5;241m.\u001b[39mappend(col)\n\u001b[1;32m    332\u001b[0m \u001b[38;5;66;03m# Copy only the necessary columns\u001b[39;00m\n\u001b[0;32m--> 333\u001b[0m df \u001b[38;5;241m=\u001b[39m \u001b[43mdf\u001b[49m\u001b[43m[\u001b[49m\u001b[43mnecessary_cols\u001b[49m\u001b[43m]\u001b[49m\u001b[38;5;241m.\u001b[39mcopy()  \u001b[38;5;66;03m# To not transform original dataframe.\u001b[39;00m\n\u001b[1;32m    335\u001b[0m \u001b[38;5;66;03m# Validation step.\u001b[39;00m\n\u001b[1;32m    336\u001b[0m \u001b[38;5;28;01mfor\u001b[39;00m col \u001b[38;5;129;01min\u001b[39;00m [score_col, label_col]:\n\u001b[1;32m    337\u001b[0m     \u001b[38;5;66;03m# Validate if column is in dataframe.\u001b[39;00m\n",
      "File \u001b[0;32m~/miniconda3/envs/machine_learning/lib/python3.11/site-packages/pandas/core/frame.py:4108\u001b[0m, in \u001b[0;36mDataFrame.__getitem__\u001b[0;34m(self, key)\u001b[0m\n\u001b[1;32m   4106\u001b[0m     \u001b[38;5;28;01mif\u001b[39;00m is_iterator(key):\n\u001b[1;32m   4107\u001b[0m         key \u001b[38;5;241m=\u001b[39m \u001b[38;5;28mlist\u001b[39m(key)\n\u001b[0;32m-> 4108\u001b[0m     indexer \u001b[38;5;241m=\u001b[39m \u001b[38;5;28;43mself\u001b[39;49m\u001b[38;5;241;43m.\u001b[39;49m\u001b[43mcolumns\u001b[49m\u001b[38;5;241;43m.\u001b[39;49m\u001b[43m_get_indexer_strict\u001b[49m\u001b[43m(\u001b[49m\u001b[43mkey\u001b[49m\u001b[43m,\u001b[49m\u001b[43m \u001b[49m\u001b[38;5;124;43m\"\u001b[39;49m\u001b[38;5;124;43mcolumns\u001b[39;49m\u001b[38;5;124;43m\"\u001b[39;49m\u001b[43m)\u001b[49m[\u001b[38;5;241m1\u001b[39m]\n\u001b[1;32m   4110\u001b[0m \u001b[38;5;66;03m# take() does not accept boolean indexers\u001b[39;00m\n\u001b[1;32m   4111\u001b[0m \u001b[38;5;28;01mif\u001b[39;00m \u001b[38;5;28mgetattr\u001b[39m(indexer, \u001b[38;5;124m\"\u001b[39m\u001b[38;5;124mdtype\u001b[39m\u001b[38;5;124m\"\u001b[39m, \u001b[38;5;28;01mNone\u001b[39;00m) \u001b[38;5;241m==\u001b[39m \u001b[38;5;28mbool\u001b[39m:\n",
      "File \u001b[0;32m~/miniconda3/envs/machine_learning/lib/python3.11/site-packages/pandas/core/indexes/base.py:6200\u001b[0m, in \u001b[0;36mIndex._get_indexer_strict\u001b[0;34m(self, key, axis_name)\u001b[0m\n\u001b[1;32m   6197\u001b[0m \u001b[38;5;28;01melse\u001b[39;00m:\n\u001b[1;32m   6198\u001b[0m     keyarr, indexer, new_indexer \u001b[38;5;241m=\u001b[39m \u001b[38;5;28mself\u001b[39m\u001b[38;5;241m.\u001b[39m_reindex_non_unique(keyarr)\n\u001b[0;32m-> 6200\u001b[0m \u001b[38;5;28;43mself\u001b[39;49m\u001b[38;5;241;43m.\u001b[39;49m\u001b[43m_raise_if_missing\u001b[49m\u001b[43m(\u001b[49m\u001b[43mkeyarr\u001b[49m\u001b[43m,\u001b[49m\u001b[43m \u001b[49m\u001b[43mindexer\u001b[49m\u001b[43m,\u001b[49m\u001b[43m \u001b[49m\u001b[43maxis_name\u001b[49m\u001b[43m)\u001b[49m\n\u001b[1;32m   6202\u001b[0m keyarr \u001b[38;5;241m=\u001b[39m \u001b[38;5;28mself\u001b[39m\u001b[38;5;241m.\u001b[39mtake(indexer)\n\u001b[1;32m   6203\u001b[0m \u001b[38;5;28;01mif\u001b[39;00m \u001b[38;5;28misinstance\u001b[39m(key, Index):\n\u001b[1;32m   6204\u001b[0m     \u001b[38;5;66;03m# GH 42790 - Preserve name from an Index\u001b[39;00m\n",
      "File \u001b[0;32m~/miniconda3/envs/machine_learning/lib/python3.11/site-packages/pandas/core/indexes/base.py:6252\u001b[0m, in \u001b[0;36mIndex._raise_if_missing\u001b[0;34m(self, key, indexer, axis_name)\u001b[0m\n\u001b[1;32m   6249\u001b[0m     \u001b[38;5;28;01mraise\u001b[39;00m \u001b[38;5;167;01mKeyError\u001b[39;00m(\u001b[38;5;124mf\u001b[39m\u001b[38;5;124m\"\u001b[39m\u001b[38;5;124mNone of [\u001b[39m\u001b[38;5;132;01m{\u001b[39;00mkey\u001b[38;5;132;01m}\u001b[39;00m\u001b[38;5;124m] are in the [\u001b[39m\u001b[38;5;132;01m{\u001b[39;00maxis_name\u001b[38;5;132;01m}\u001b[39;00m\u001b[38;5;124m]\u001b[39m\u001b[38;5;124m\"\u001b[39m)\n\u001b[1;32m   6251\u001b[0m not_found \u001b[38;5;241m=\u001b[39m \u001b[38;5;28mlist\u001b[39m(ensure_index(key)[missing_mask\u001b[38;5;241m.\u001b[39mnonzero()[\u001b[38;5;241m0\u001b[39m]]\u001b[38;5;241m.\u001b[39munique())\n\u001b[0;32m-> 6252\u001b[0m \u001b[38;5;28;01mraise\u001b[39;00m \u001b[38;5;167;01mKeyError\u001b[39;00m(\u001b[38;5;124mf\u001b[39m\u001b[38;5;124m\"\u001b[39m\u001b[38;5;132;01m{\u001b[39;00mnot_found\u001b[38;5;132;01m}\u001b[39;00m\u001b[38;5;124m not in index\u001b[39m\u001b[38;5;124m\"\u001b[39m)\n",
      "\u001b[0;31mKeyError\u001b[0m: \"['score', 'label_value'] not in index\""
     ]
    }
   ],
   "source": [
    "# Construct the dataframe that Aequitas will use.\n",
    "# You can draw inspiration from examples present here: https://github.com/dssg/aequitas/blob/master/docs/source/examples/compas_demo.ipynb\n",
    "\n",
    "g = Group()\n",
    "xtab, _ = g.get_crosstabs(df_aq)\n",
    "\n"
   ]
  },
  {
   "cell_type": "code",
   "execution_count": 7,
   "metadata": {},
   "outputs": [
    {
     "ename": "ValueError",
     "evalue": "The truth value of a DataFrame is ambiguous. Use a.empty, a.bool(), a.item(), a.any() or a.all().",
     "output_type": "error",
     "traceback": [
      "\u001b[0;31m---------------------------------------------------------------------------\u001b[0m",
      "\u001b[0;31mValueError\u001b[0m                                Traceback (most recent call last)",
      "\u001b[0;32m/var/folders/_w/9ltrq4ys4053jkl_ntftqb0r0000gn/T/ipykernel_11163/344572960.py\u001b[0m in \u001b[0;36m?\u001b[0;34m()\u001b[0m\n\u001b[1;32m      1\u001b[0m \u001b[0;31m# Run Aequitas.\u001b[0m\u001b[0;34m\u001b[0m\u001b[0;34m\u001b[0m\u001b[0m\n\u001b[1;32m      2\u001b[0m \u001b[0;31m# Summarize: Aequitas classes provides a few functions that provide a high level summary of fairness and disparity, such as\u001b[0m\u001b[0;34m\u001b[0m\u001b[0;34m\u001b[0m\u001b[0m\n\u001b[0;32m----> 3\u001b[0;31m \u001b[0map\u001b[0m\u001b[0;34m.\u001b[0m\u001b[0mplot_fairness_group_all\u001b[0m\u001b[0;34m(\u001b[0m\u001b[0mFairness\u001b[0m\u001b[0;34m(\u001b[0m\u001b[0mdf_aq\u001b[0m\u001b[0;34m)\u001b[0m\u001b[0;34m)\u001b[0m\u001b[0;34m\u001b[0m\u001b[0;34m\u001b[0m\u001b[0m\n\u001b[0m\u001b[1;32m      4\u001b[0m \u001b[0;31m# plot_fairness_disparity_all()\u001b[0m\u001b[0;34m\u001b[0m\u001b[0;34m\u001b[0m\u001b[0m\n\u001b[1;32m      5\u001b[0m \u001b[0;31m# plot_disparity_all()\u001b[0m\u001b[0;34m\u001b[0m\u001b[0;34m\u001b[0m\u001b[0m\n",
      "\u001b[0;32m~/miniconda3/envs/machine_learning/lib/python3.11/site-packages/aequitas/fairness.py\u001b[0m in \u001b[0;36m?\u001b[0;34m(self, fair_eval, tau, fair_measures_depend, type_parity_depend, high_level_fairness_depend)\u001b[0m\n\u001b[1;32m     27\u001b[0m             \u001b[0munsupervised\u001b[0m \u001b[0mfairness\u001b[0m \u001b[0;32mas\u001b[0m \u001b[0mkeys\u001b[0m \u001b[0;32mand\u001b[0m \u001b[0mlists\u001b[0m \u001b[0mof\u001b[0m \u001b[0mtheir\u001b[0m \u001b[0munderlying\u001b[0m \u001b[0mmetric\u001b[0m\u001b[0;34m\u001b[0m\u001b[0;34m\u001b[0m\u001b[0m\n\u001b[1;32m     28\u001b[0m             \u001b[0mparities\u001b[0m \u001b[0;32mas\u001b[0m \u001b[0mvalues\u001b[0m\u001b[0;34m.\u001b[0m\u001b[0;34m\u001b[0m\u001b[0;34m\u001b[0m\u001b[0m\n\u001b[1;32m     29\u001b[0m         \"\"\"\n\u001b[1;32m     30\u001b[0m \u001b[0;34m\u001b[0m\u001b[0m\n\u001b[0;32m---> 31\u001b[0;31m         \u001b[0;32mif\u001b[0m \u001b[0;32mnot\u001b[0m \u001b[0mfair_eval\u001b[0m\u001b[0;34m:\u001b[0m\u001b[0;34m\u001b[0m\u001b[0;34m\u001b[0m\u001b[0m\n\u001b[0m\u001b[1;32m     32\u001b[0m             \u001b[0mself\u001b[0m\u001b[0;34m.\u001b[0m\u001b[0mfair_eval\u001b[0m \u001b[0;34m=\u001b[0m \u001b[0;32mlambda\u001b[0m \u001b[0mtau\u001b[0m\u001b[0;34m:\u001b[0m \u001b[0;32mlambda\u001b[0m \u001b[0mx\u001b[0m\u001b[0;34m:\u001b[0m \u001b[0mnp\u001b[0m\u001b[0;34m.\u001b[0m\u001b[0mnan\u001b[0m \u001b[0;32mif\u001b[0m \u001b[0mnp\u001b[0m\u001b[0;34m.\u001b[0m\u001b[0misnan\u001b[0m\u001b[0;34m(\u001b[0m\u001b[0mx\u001b[0m\u001b[0;34m)\u001b[0m \u001b[0;32melse\u001b[0m\u001b[0;31m \u001b[0m\u001b[0;31m\\\u001b[0m\u001b[0;34m\u001b[0m\u001b[0;34m\u001b[0m\u001b[0m\n\u001b[1;32m     33\u001b[0m                 \u001b[0;34m(\u001b[0m\u001b[0;32mTrue\u001b[0m \u001b[0;32mif\u001b[0m \u001b[0mtau\u001b[0m \u001b[0;34m<=\u001b[0m \u001b[0mx\u001b[0m \u001b[0;34m<=\u001b[0m \u001b[0;36m1\u001b[0m \u001b[0;34m/\u001b[0m \u001b[0mtau\u001b[0m \u001b[0;32melse\u001b[0m \u001b[0;32mFalse\u001b[0m\u001b[0;34m)\u001b[0m\u001b[0;34m\u001b[0m\u001b[0;34m\u001b[0m\u001b[0m\n\u001b[1;32m     34\u001b[0m         \u001b[0;32melse\u001b[0m\u001b[0;34m:\u001b[0m\u001b[0;34m\u001b[0m\u001b[0;34m\u001b[0m\u001b[0m\n",
      "\u001b[0;32m~/miniconda3/envs/machine_learning/lib/python3.11/site-packages/pandas/core/generic.py\u001b[0m in \u001b[0;36m?\u001b[0;34m(self)\u001b[0m\n\u001b[1;32m   1575\u001b[0m     \u001b[0;34m@\u001b[0m\u001b[0mfinal\u001b[0m\u001b[0;34m\u001b[0m\u001b[0;34m\u001b[0m\u001b[0m\n\u001b[1;32m   1576\u001b[0m     \u001b[0;32mdef\u001b[0m \u001b[0m__nonzero__\u001b[0m\u001b[0;34m(\u001b[0m\u001b[0mself\u001b[0m\u001b[0;34m)\u001b[0m \u001b[0;34m->\u001b[0m \u001b[0mNoReturn\u001b[0m\u001b[0;34m:\u001b[0m\u001b[0;34m\u001b[0m\u001b[0;34m\u001b[0m\u001b[0m\n\u001b[0;32m-> 1577\u001b[0;31m         raise ValueError(\n\u001b[0m\u001b[1;32m   1578\u001b[0m             \u001b[0;34mf\"The truth value of a {type(self).__name__} is ambiguous. \"\u001b[0m\u001b[0;34m\u001b[0m\u001b[0;34m\u001b[0m\u001b[0m\n\u001b[1;32m   1579\u001b[0m             \u001b[0;34m\"Use a.empty, a.bool(), a.item(), a.any() or a.all().\"\u001b[0m\u001b[0;34m\u001b[0m\u001b[0;34m\u001b[0m\u001b[0m\n\u001b[1;32m   1580\u001b[0m         )\n",
      "\u001b[0;31mValueError\u001b[0m: The truth value of a DataFrame is ambiguous. Use a.empty, a.bool(), a.item(), a.any() or a.all()."
     ]
    }
   ],
   "source": [
    "# Run Aequitas.\n",
    "# Summarize: Aequitas classes provides a few functions that provide a high level summary of fairness and disparity, such as \n",
    "ap.plot_fairness_group_all(Fairness(df_aq))\n",
    "# plot_fairness_disparity_all()\n",
    "# plot_disparity_all()\n"
   ]
  }
 ],
 "metadata": {
  "kernelspec": {
   "display_name": "Python 3",
   "language": "python",
   "name": "python3"
  },
  "language_info": {
   "codemirror_mode": {
    "name": "ipython",
    "version": 3
   },
   "file_extension": ".py",
   "mimetype": "text/x-python",
   "name": "python",
   "nbconvert_exporter": "python",
   "pygments_lexer": "ipython3",
   "version": "3.11.9"
  }
 },
 "nbformat": 4,
 "nbformat_minor": 4
}
