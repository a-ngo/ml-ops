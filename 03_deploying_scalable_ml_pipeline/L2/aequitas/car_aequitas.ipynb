{
 "cells": [
  {
   "cell_type": "markdown",
   "metadata": {},
   "source": [
    "The data from this exercise comes from the UCI Machine Learning Repository: https://archive.ics.uci.edu/ml/datasets/Car+Evaluation For more details on the data set see the included documentation."
   ]
  },
  {
   "cell_type": "code",
   "execution_count": 3,
   "metadata": {},
   "outputs": [
    {
     "name": "stdout",
     "output_type": "stream",
     "text": [
      "Collecting aequitas\n",
      "  Downloading aequitas-1.0.0-1-py3-none-any.whl.metadata (16 kB)\n",
      "Requirement already satisfied: matplotlib>=3.0.3 in /Users/anthony/miniconda3/envs/machine_learning/lib/python3.11/site-packages (from aequitas) (3.8.4)\n",
      "Requirement already satisfied: pandas>=0.24.1 in /Users/anthony/miniconda3/envs/machine_learning/lib/python3.11/site-packages (from aequitas) (2.2.2)\n",
      "Requirement already satisfied: pyyaml>=5.1 in /Users/anthony/miniconda3/envs/machine_learning/lib/python3.11/site-packages (from aequitas) (6.0.1)\n",
      "Requirement already satisfied: seaborn>=0.9.0 in /Users/anthony/miniconda3/envs/machine_learning/lib/python3.11/site-packages (from aequitas) (0.13.2)\n",
      "Collecting altair>=4.1.0 (from aequitas)\n",
      "  Downloading altair-5.3.0-py3-none-any.whl.metadata (9.2 kB)\n",
      "Collecting millify==0.1.1 (from aequitas)\n",
      "  Using cached millify-0.1.1-py3-none-any.whl\n",
      "Requirement already satisfied: scipy>=0.18.1 in /Users/anthony/miniconda3/envs/machine_learning/lib/python3.11/site-packages (from aequitas) (1.13.0)\n",
      "Collecting optuna>=3.0.0 (from aequitas)\n",
      "  Downloading optuna-3.6.1-py3-none-any.whl.metadata (17 kB)\n",
      "Collecting aif360>=0.5.0 (from aequitas)\n",
      "  Downloading aif360-0.6.1-py3-none-any.whl.metadata (5.0 kB)\n",
      "Collecting fairgbm==0.9.14 (from aequitas)\n",
      "  Downloading fairgbm-0.9.14-py3-none-any.whl.metadata (12 kB)\n",
      "Collecting fairlearn>=0.8.0 (from aequitas)\n",
      "  Downloading fairlearn-0.10.0-py3-none-any.whl.metadata (7.0 kB)\n",
      "Collecting hydra-core>=1.3.0 (from aequitas)\n",
      "  Downloading hydra_core-1.3.2-py3-none-any.whl.metadata (5.5 kB)\n",
      "Collecting validators>=0.22.0 (from aequitas)\n",
      "  Downloading validators-0.30.0-py3-none-any.whl.metadata (3.8 kB)\n",
      "Collecting hyperparameter-tuning>=0.3.1 (from aequitas)\n",
      "  Downloading hyperparameter_tuning-0.3.1-py3-none-any.whl.metadata (3.9 kB)\n",
      "Collecting numpy==1.23.5 (from aequitas)\n",
      "  Downloading numpy-1.23.5-cp311-cp311-macosx_11_0_arm64.whl.metadata (2.3 kB)\n",
      "Requirement already satisfied: wheel in /Users/anthony/miniconda3/envs/machine_learning/lib/python3.11/site-packages (from fairgbm==0.9.14->aequitas) (0.43.0)\n",
      "Requirement already satisfied: scikit-learn!=0.22.0 in /Users/anthony/miniconda3/envs/machine_learning/lib/python3.11/site-packages (from fairgbm==0.9.14->aequitas) (1.4.2)\n",
      "Requirement already satisfied: jinja2 in /Users/anthony/miniconda3/envs/machine_learning/lib/python3.11/site-packages (from altair>=4.1.0->aequitas) (3.1.4)\n",
      "Requirement already satisfied: jsonschema>=3.0 in /Users/anthony/miniconda3/envs/machine_learning/lib/python3.11/site-packages (from altair>=4.1.0->aequitas) (4.22.0)\n",
      "Requirement already satisfied: packaging in /Users/anthony/miniconda3/envs/machine_learning/lib/python3.11/site-packages (from altair>=4.1.0->aequitas) (24.0)\n",
      "Collecting toolz (from altair>=4.1.0->aequitas)\n",
      "  Using cached toolz-0.12.1-py3-none-any.whl.metadata (5.1 kB)\n",
      "INFO: pip is looking at multiple versions of fairlearn to determine which version is compatible with other requirements. This could take a while.\n",
      "Collecting fairlearn>=0.8.0 (from aequitas)\n",
      "  Downloading fairlearn-0.9.0-py3-none-any.whl.metadata (6.9 kB)\n",
      "Collecting omegaconf<2.4,>=2.2 (from hydra-core>=1.3.0->aequitas)\n",
      "  Downloading omegaconf-2.3.0-py3-none-any.whl.metadata (3.9 kB)\n",
      "Collecting antlr4-python3-runtime==4.9.* (from hydra-core>=1.3.0->aequitas)\n",
      "  Downloading antlr4-python3-runtime-4.9.3.tar.gz (117 kB)\n",
      "\u001b[2K     \u001b[90m━━━━━━━━━━━━━━━━━━━━━━━━━━━━━━━━━━━━━━━\u001b[0m \u001b[32m117.0/117.0 kB\u001b[0m \u001b[31m8.5 MB/s\u001b[0m eta \u001b[36m0:00:00\u001b[0m\n",
      "\u001b[?25h  Preparing metadata (setup.py) ... \u001b[?25ldone\n",
      "\u001b[?25hCollecting schema (from hyperparameter-tuning>=0.3.1->aequitas)\n",
      "  Downloading schema-0.7.7-py2.py3-none-any.whl.metadata (34 kB)\n",
      "Requirement already satisfied: contourpy>=1.0.1 in /Users/anthony/miniconda3/envs/machine_learning/lib/python3.11/site-packages (from matplotlib>=3.0.3->aequitas) (1.2.1)\n",
      "Requirement already satisfied: cycler>=0.10 in /Users/anthony/miniconda3/envs/machine_learning/lib/python3.11/site-packages (from matplotlib>=3.0.3->aequitas) (0.12.1)\n",
      "Requirement already satisfied: fonttools>=4.22.0 in /Users/anthony/miniconda3/envs/machine_learning/lib/python3.11/site-packages (from matplotlib>=3.0.3->aequitas) (4.51.0)\n",
      "Requirement already satisfied: kiwisolver>=1.3.1 in /Users/anthony/miniconda3/envs/machine_learning/lib/python3.11/site-packages (from matplotlib>=3.0.3->aequitas) (1.4.5)\n",
      "Requirement already satisfied: pillow>=8 in /Users/anthony/miniconda3/envs/machine_learning/lib/python3.11/site-packages (from matplotlib>=3.0.3->aequitas) (10.3.0)\n",
      "Requirement already satisfied: pyparsing>=2.3.1 in /Users/anthony/miniconda3/envs/machine_learning/lib/python3.11/site-packages (from matplotlib>=3.0.3->aequitas) (3.1.2)\n",
      "Requirement already satisfied: python-dateutil>=2.7 in /Users/anthony/miniconda3/envs/machine_learning/lib/python3.11/site-packages (from matplotlib>=3.0.3->aequitas) (2.9.0)\n",
      "Requirement already satisfied: alembic>=1.5.0 in /Users/anthony/miniconda3/envs/machine_learning/lib/python3.11/site-packages (from optuna>=3.0.0->aequitas) (1.13.1)\n",
      "Collecting colorlog (from optuna>=3.0.0->aequitas)\n",
      "  Downloading colorlog-6.8.2-py3-none-any.whl.metadata (10 kB)\n",
      "Requirement already satisfied: sqlalchemy>=1.3.0 in /Users/anthony/miniconda3/envs/machine_learning/lib/python3.11/site-packages (from optuna>=3.0.0->aequitas) (2.0.30)\n",
      "Requirement already satisfied: tqdm in /Users/anthony/miniconda3/envs/machine_learning/lib/python3.11/site-packages (from optuna>=3.0.0->aequitas) (4.66.4)\n",
      "Requirement already satisfied: pytz>=2020.1 in /Users/anthony/miniconda3/envs/machine_learning/lib/python3.11/site-packages (from pandas>=0.24.1->aequitas) (2024.1)\n",
      "Requirement already satisfied: tzdata>=2022.7 in /Users/anthony/miniconda3/envs/machine_learning/lib/python3.11/site-packages (from pandas>=0.24.1->aequitas) (2024.1)\n",
      "Requirement already satisfied: Mako in /Users/anthony/miniconda3/envs/machine_learning/lib/python3.11/site-packages (from alembic>=1.5.0->optuna>=3.0.0->aequitas) (1.3.5)\n",
      "Requirement already satisfied: typing-extensions>=4 in /Users/anthony/miniconda3/envs/machine_learning/lib/python3.11/site-packages (from alembic>=1.5.0->optuna>=3.0.0->aequitas) (4.11.0)\n",
      "Requirement already satisfied: attrs>=22.2.0 in /Users/anthony/miniconda3/envs/machine_learning/lib/python3.11/site-packages (from jsonschema>=3.0->altair>=4.1.0->aequitas) (23.2.0)\n",
      "Requirement already satisfied: jsonschema-specifications>=2023.03.6 in /Users/anthony/miniconda3/envs/machine_learning/lib/python3.11/site-packages (from jsonschema>=3.0->altair>=4.1.0->aequitas) (2023.12.1)\n",
      "Requirement already satisfied: referencing>=0.28.4 in /Users/anthony/miniconda3/envs/machine_learning/lib/python3.11/site-packages (from jsonschema>=3.0->altair>=4.1.0->aequitas) (0.35.1)\n",
      "Requirement already satisfied: rpds-py>=0.7.1 in /Users/anthony/miniconda3/envs/machine_learning/lib/python3.11/site-packages (from jsonschema>=3.0->altair>=4.1.0->aequitas) (0.18.1)\n",
      "Requirement already satisfied: six>=1.5 in /Users/anthony/miniconda3/envs/machine_learning/lib/python3.11/site-packages (from python-dateutil>=2.7->matplotlib>=3.0.3->aequitas) (1.16.0)\n",
      "Requirement already satisfied: joblib>=1.2.0 in /Users/anthony/miniconda3/envs/machine_learning/lib/python3.11/site-packages (from scikit-learn!=0.22.0->fairgbm==0.9.14->aequitas) (1.4.2)\n",
      "Requirement already satisfied: threadpoolctl>=2.0.0 in /Users/anthony/miniconda3/envs/machine_learning/lib/python3.11/site-packages (from scikit-learn!=0.22.0->fairgbm==0.9.14->aequitas) (3.5.0)\n",
      "Requirement already satisfied: MarkupSafe>=2.0 in /Users/anthony/miniconda3/envs/machine_learning/lib/python3.11/site-packages (from jinja2->altair>=4.1.0->aequitas) (2.1.5)\n",
      "Downloading aequitas-1.0.0-1-py3-none-any.whl (3.1 MB)\n",
      "\u001b[2K   \u001b[90m━━━━━━━━━━━━━━━━━━━━━━━━━━━━━━━━━━━━━━━━\u001b[0m \u001b[32m3.1/3.1 MB\u001b[0m \u001b[31m37.3 MB/s\u001b[0m eta \u001b[36m0:00:00\u001b[0ma \u001b[36m0:00:01\u001b[0m\n",
      "\u001b[?25hDownloading fairgbm-0.9.14-py3-none-any.whl (2.1 MB)\n",
      "\u001b[2K   \u001b[90m━━━━━━━━━━━━━━━━━━━━━━━━━━━━━━━━━━━━━━━━\u001b[0m \u001b[32m2.1/2.1 MB\u001b[0m \u001b[31m47.0 MB/s\u001b[0m eta \u001b[36m0:00:00\u001b[0m00:01\u001b[0m\n",
      "\u001b[?25hDownloading numpy-1.23.5-cp311-cp311-macosx_11_0_arm64.whl (13.3 MB)\n",
      "\u001b[2K   \u001b[90m━━━━━━━━━━━━━━━━━━━━━━━━━━━━━━━━━━━━━━━━\u001b[0m \u001b[32m13.3/13.3 MB\u001b[0m \u001b[31m62.6 MB/s\u001b[0m eta \u001b[36m0:00:00\u001b[0ma \u001b[36m0:00:01\u001b[0m\n",
      "\u001b[?25hDownloading aif360-0.6.1-py3-none-any.whl (259 kB)\n",
      "\u001b[2K   \u001b[90m━━━━━━━━━━━━━━━━━━━━━━━━━━━━━━━━━━━━━━━━\u001b[0m \u001b[32m259.7/259.7 kB\u001b[0m \u001b[31m24.3 MB/s\u001b[0m eta \u001b[36m0:00:00\u001b[0m\n",
      "\u001b[?25hDownloading altair-5.3.0-py3-none-any.whl (857 kB)\n",
      "\u001b[2K   \u001b[90m━━━━━━━━━━━━━━━━━━━━━━━━━━━━━━━━━━━━━━━━\u001b[0m \u001b[32m857.8/857.8 kB\u001b[0m \u001b[31m51.0 MB/s\u001b[0m eta \u001b[36m0:00:00\u001b[0m\n",
      "\u001b[?25hDownloading fairlearn-0.9.0-py3-none-any.whl (231 kB)\n",
      "\u001b[2K   \u001b[90m━━━━━━━━━━━━━━━━━━━━━━━━━━━━━━━━━━━━━━━━\u001b[0m \u001b[32m231.5/231.5 kB\u001b[0m \u001b[31m21.5 MB/s\u001b[0m eta \u001b[36m0:00:00\u001b[0m\n",
      "\u001b[?25hDownloading hydra_core-1.3.2-py3-none-any.whl (154 kB)\n",
      "\u001b[2K   \u001b[90m━━━━━━━━━━━━━━━━━━━━━━━━━━━━━━━━━━━━━━━━\u001b[0m \u001b[32m154.5/154.5 kB\u001b[0m \u001b[31m21.9 MB/s\u001b[0m eta \u001b[36m0:00:00\u001b[0m\n",
      "\u001b[?25hDownloading hyperparameter_tuning-0.3.1-py3-none-any.whl (25 kB)\n",
      "Downloading optuna-3.6.1-py3-none-any.whl (380 kB)\n",
      "\u001b[2K   \u001b[90m━━━━━━━━━━━━━━━━━━━━━━━━━━━━━━━━━━━━━━━━\u001b[0m \u001b[32m380.1/380.1 kB\u001b[0m \u001b[31m33.6 MB/s\u001b[0m eta \u001b[36m0:00:00\u001b[0m\n",
      "\u001b[?25hDownloading validators-0.30.0-py3-none-any.whl (42 kB)\n",
      "\u001b[2K   \u001b[90m━━━━━━━━━━━━━━━━━━━━━━━━━━━━━━━━━━━━━━━━\u001b[0m \u001b[32m42.4/42.4 kB\u001b[0m \u001b[31m4.6 MB/s\u001b[0m eta \u001b[36m0:00:00\u001b[0m\n",
      "\u001b[?25hDownloading omegaconf-2.3.0-py3-none-any.whl (79 kB)\n",
      "\u001b[2K   \u001b[90m━━━━━━━━━━━━━━━━━━━━━━━━━━━━━━━━━━━━━━━━\u001b[0m \u001b[32m79.5/79.5 kB\u001b[0m \u001b[31m11.2 MB/s\u001b[0m eta \u001b[36m0:00:00\u001b[0m\n",
      "\u001b[?25hDownloading colorlog-6.8.2-py3-none-any.whl (11 kB)\n",
      "Downloading schema-0.7.7-py2.py3-none-any.whl (18 kB)\n",
      "Using cached toolz-0.12.1-py3-none-any.whl (56 kB)\n",
      "Building wheels for collected packages: antlr4-python3-runtime\n",
      "  Building wheel for antlr4-python3-runtime (setup.py) ... \u001b[?25ldone\n",
      "\u001b[?25h  Created wheel for antlr4-python3-runtime: filename=antlr4_python3_runtime-4.9.3-py3-none-any.whl size=144554 sha256=59a57b6cddb0a331c36a350da085ae6a64f717e500b07add66c66f8ac50c252c\n",
      "  Stored in directory: /Users/anthony/Library/Caches/pip/wheels/1a/97/32/461f837398029ad76911109f07047fde1d7b661a147c7c56d1\n",
      "Successfully built antlr4-python3-runtime\n",
      "Installing collected packages: schema, millify, antlr4-python3-runtime, validators, toolz, omegaconf, numpy, colorlog, hydra-core, optuna, hyperparameter-tuning, fairlearn, fairgbm, altair, aif360, aequitas\n",
      "  Attempting uninstall: numpy\n",
      "    Found existing installation: numpy 1.26.4\n",
      "    Uninstalling numpy-1.26.4:\n",
      "      Successfully uninstalled numpy-1.26.4\n",
      "Successfully installed aequitas-1.0.0 aif360-0.6.1 altair-5.3.0 antlr4-python3-runtime-4.9.3 colorlog-6.8.2 fairgbm-0.9.14 fairlearn-0.9.0 hydra-core-1.3.2 hyperparameter-tuning-0.3.1 millify-0.1.1 numpy-1.23.5 omegaconf-2.3.0 optuna-3.6.1 schema-0.7.7 toolz-0.12.1 validators-0.30.0\n"
     ]
    }
   ],
   "source": [
    "# Ensure that Aequitas dependency is installed\n",
    "import sys\n",
    "!{sys.executable} -m pip install aequitas"
   ]
  },
  {
   "cell_type": "code",
   "execution_count": 4,
   "metadata": {},
   "outputs": [],
   "source": [
    "# Imports\n",
    "from aequitas.plotting import Plot\n",
    "ap = Plot()\n",
    "import pandas as pd\n",
    "\n",
    "from aequitas.group import Group\n",
    "from aequitas.bias import Bias \n",
    "from aequitas.fairness import Fairness\n",
    "\n",
    "from sklearn.model_selection import train_test_split\n",
    "from sklearn.linear_model import LogisticRegression\n",
    "from sklearn.preprocessing import OneHotEncoder, label_binarize, LabelBinarizer\n",
    "from sklearn.metrics import f1_score\n",
    "from sklearn.metrics import confusion_matrix, ConfusionMatrixDisplay\n",
    "\n",
    "pd.set_option('display.max_columns', None)\n",
    "pd.set_option('display.max_rows', None)"
   ]
  },
  {
   "cell_type": "code",
   "execution_count": 5,
   "metadata": {},
   "outputs": [
    {
     "data": {
      "text/html": [
       "<div>\n",
       "<style scoped>\n",
       "    .dataframe tbody tr th:only-of-type {\n",
       "        vertical-align: middle;\n",
       "    }\n",
       "\n",
       "    .dataframe tbody tr th {\n",
       "        vertical-align: top;\n",
       "    }\n",
       "\n",
       "    .dataframe thead th {\n",
       "        text-align: right;\n",
       "    }\n",
       "</style>\n",
       "<table border=\"1\" class=\"dataframe\">\n",
       "  <thead>\n",
       "    <tr style=\"text-align: right;\">\n",
       "      <th></th>\n",
       "      <th>buying</th>\n",
       "      <th>maint</th>\n",
       "      <th>doors</th>\n",
       "      <th>persons</th>\n",
       "      <th>lug_boot</th>\n",
       "      <th>safety</th>\n",
       "    </tr>\n",
       "  </thead>\n",
       "  <tbody>\n",
       "    <tr>\n",
       "      <th>0</th>\n",
       "      <td>vhigh</td>\n",
       "      <td>vhigh</td>\n",
       "      <td>2</td>\n",
       "      <td>2</td>\n",
       "      <td>small</td>\n",
       "      <td>low</td>\n",
       "    </tr>\n",
       "    <tr>\n",
       "      <th>1</th>\n",
       "      <td>vhigh</td>\n",
       "      <td>vhigh</td>\n",
       "      <td>2</td>\n",
       "      <td>2</td>\n",
       "      <td>small</td>\n",
       "      <td>med</td>\n",
       "    </tr>\n",
       "    <tr>\n",
       "      <th>2</th>\n",
       "      <td>vhigh</td>\n",
       "      <td>vhigh</td>\n",
       "      <td>2</td>\n",
       "      <td>2</td>\n",
       "      <td>small</td>\n",
       "      <td>high</td>\n",
       "    </tr>\n",
       "    <tr>\n",
       "      <th>3</th>\n",
       "      <td>vhigh</td>\n",
       "      <td>vhigh</td>\n",
       "      <td>2</td>\n",
       "      <td>2</td>\n",
       "      <td>med</td>\n",
       "      <td>low</td>\n",
       "    </tr>\n",
       "    <tr>\n",
       "      <th>4</th>\n",
       "      <td>vhigh</td>\n",
       "      <td>vhigh</td>\n",
       "      <td>2</td>\n",
       "      <td>2</td>\n",
       "      <td>med</td>\n",
       "      <td>med</td>\n",
       "    </tr>\n",
       "  </tbody>\n",
       "</table>\n",
       "</div>"
      ],
      "text/plain": [
       "  buying  maint doors persons lug_boot safety\n",
       "0  vhigh  vhigh     2       2    small    low\n",
       "1  vhigh  vhigh     2       2    small    med\n",
       "2  vhigh  vhigh     2       2    small   high\n",
       "3  vhigh  vhigh     2       2      med    low\n",
       "4  vhigh  vhigh     2       2      med    med"
      ]
     },
     "execution_count": 5,
     "metadata": {},
     "output_type": "execute_result"
    }
   ],
   "source": [
    "# I manually added the headers to the data set.\n",
    "df = pd.read_csv(\"./car.csv\")\n",
    "\n",
    "# We'll modify the data to make it a binary problem of acceptable or unacceptable car.\n",
    "df = df.where(df != 'good', 'acc')\n",
    "df = df.where(df != 'vgood', 'acc')\n",
    "\n",
    "y = df.pop('car')\n",
    "X = df\n",
    "\n",
    "df.head()"
   ]
  },
  {
   "cell_type": "code",
   "execution_count": 7,
   "metadata": {},
   "outputs": [
    {
     "name": "stdout",
     "output_type": "stream",
     "text": [
      "X_train shape:  (1296, 6)\n",
      "X_test shape:  (432, 6)\n"
     ]
    }
   ],
   "source": [
    "X_train, X_test, y_train, y_test = train_test_split(X, y, test_size=0.25, random_state=23)\n",
    "print(\"X_train shape: \", X_train.shape)\n",
    "print(\"X_test shape: \", X_test.shape)\n",
    "\n",
    "# Use this later to construct the DataFrame Aequitas requires.\n",
    "df_aq = X_test.copy()\n",
    "\n",
    "ohe = OneHotEncoder(handle_unknown=\"ignore\", sparse_output=False)\n",
    "X_train = ohe.fit_transform(X_train.values)\n",
    "X_test = ohe.transform(X_test.values)\n",
    "\n",
    "lb = LabelBinarizer()\n",
    "y_train = label_binarize(y_train.values, classes=['unacc', 'acc']).ravel()\n",
    "y_test = label_binarize(y_test.values, classes=['unacc', 'acc']).ravel()"
   ]
  },
  {
   "cell_type": "code",
   "execution_count": 8,
   "metadata": {},
   "outputs": [
    {
     "name": "stdout",
     "output_type": "stream",
     "text": [
      "F1 score: 0.8960\n"
     ]
    }
   ],
   "source": [
    "lr = LogisticRegression(max_iter=1000)\n",
    "lr.fit(X_train, y_train)\n",
    "\n",
    "scores = lr.predict_proba(X_test)\n",
    "pred = lr.predict(X_test)\n",
    "\n",
    "f1 = f1_score(y_test, pred)\n",
    "print(f\"F1 score: {f1:.4f}\")"
   ]
  },
  {
   "cell_type": "code",
   "execution_count": null,
   "metadata": {},
   "outputs": [],
   "source": [
    "# Construct the dataframe that Aequitas will use.\n",
    "# You can draw inspiration from examples present here: https://github.com/dssg/aequitas/blob/master/docs/source/examples/compas_demo.ipynb "
   ]
  },
  {
   "cell_type": "code",
   "execution_count": null,
   "metadata": {},
   "outputs": [],
   "source": [
    "# Run Aequitas.\n",
    "# Summarize: Aequitas classes provides a few functions that provide a high level summary of fairness and disparity, such as \n",
    "# plot_fairness_group_all()\n",
    "# plot_fairness_disparity_all()\n",
    "# plot_disparity_all()\n"
   ]
  }
 ],
 "metadata": {
  "kernelspec": {
   "display_name": "Python 3",
   "language": "python",
   "name": "python3"
  },
  "language_info": {
   "codemirror_mode": {
    "name": "ipython",
    "version": 3
   },
   "file_extension": ".py",
   "mimetype": "text/x-python",
   "name": "python",
   "nbconvert_exporter": "python",
   "pygments_lexer": "ipython3",
   "version": "3.11.9"
  }
 },
 "nbformat": 4,
 "nbformat_minor": 4
}
